{
 "cells": [
  {
   "cell_type": "markdown",
   "source": [
    "## 1. Imports"
   ],
   "metadata": {
    "collapsed": false
   }
  },
  {
   "cell_type": "code",
   "execution_count": 1,
   "metadata": {
    "collapsed": true
   },
   "outputs": [],
   "source": [
    "import pandas as pd\n",
    "import numpy as np\n",
    "import itertools\n",
    "import seaborn as sns\n",
    "from tqdm import tqdm"
   ]
  },
  {
   "cell_type": "markdown",
   "source": [
    "# 2. Utility Function Helpers"
   ],
   "metadata": {
    "collapsed": false
   }
  },
  {
   "cell_type": "code",
   "execution_count": 2,
   "outputs": [],
   "source": [
    "\n",
    "def mp_model_ppsoe(inv, mult, phi, theta):\n",
    "    inv = float(inv)\n",
    "    mult = float(mult)\n",
    "    exp = float(2*inv)\n",
    "    theta = float(theta)\n",
    "    phi = float(phi)\n",
    "    total_amt = inv*mult\n",
    "    choice_opts = np.arange(0, total_amt+1)  # Only integers in strategy space (but not further discretized)\n",
    "    own = total_amt-choice_opts\n",
    "    other = 10 - inv + choice_opts\n",
    "    own_share = own/total_amt # Should be total_amt\n",
    "    guilt = np.square(np.maximum((exp-choice_opts)/(inv*4),0))\n",
    "    inequity = np.square(own/(own+other) - .5)\n",
    "\n",
    "    utility = theta*own_share - (1-theta)*np.minimum(guilt+phi, inequity-phi)\n",
    "\n",
    "    return choice_opts[np.where(utility == np.max(utility))[0][0]]"
   ],
   "metadata": {
    "collapsed": false,
    "pycharm": {
     "name": "#%%\n"
    }
   }
  },
  {
   "cell_type": "markdown",
   "source": [
    "# 3. Simulate Agents"
   ],
   "metadata": {
    "collapsed": false
   }
  },
  {
   "cell_type": "code",
   "execution_count": 3,
   "outputs": [
    {
     "name": "stderr",
     "output_type": "stream",
     "text": [
      "100%|██████████| 30/30 [00:15<00:00,  1.97it/s]\n"
     ]
    },
    {
     "data": {
      "text/plain": "mult           2                                   ...  6                   \\\ninv           1  2  3  4   5   6   7   8   9   10  ... 1  2  3  4   5   6    \nphi  theta                                         ...                       \n-0.1 0.000000  2  4  6  8  10  12  14  16  18  20  ...  2  4  6  8  10  12   \n     0.017241  2  4  6  8  10  12  14  15  17  19  ...  2  4  6  8  10  12   \n     0.034483  2  4  6  7   9  11  13  15  17  19  ...  2  4  6  8  10  12   \n     0.051724  2  4  5  7   9  11  12  14  16  18  ...  2  4  6  8  10  12   \n     0.068966  2  3  5  7   9  10  12  14  15  17  ...  2  4  6  8  10  11   \n...           .. .. .. ..  ..  ..  ..  ..  ..  ..  ... .. .. .. ..  ..  ..   \n 0.1 0.431034  0  0  0  0   0   0   0   0   1   2  ...  0  0  0  0   0   0   \n     0.448276  0  0  0  0   0   0   0   0   0   2  ...  0  0  0  0   0   0   \n     0.465517  0  0  0  0   0   0   0   0   0   1  ...  0  0  0  0   0   0   \n     0.482759  0  0  0  0   0   0   0   0   0   1  ...  0  0  0  0   0   0   \n     0.500000  0  0  0  0   0   0   0   0   0   0  ...  0  0  0  0   0   0   \n\nmult                           \ninv            7   8   9   10  \nphi  theta                     \n-0.1 0.000000  14  16  18  20  \n     0.017241  14  16  18  20  \n     0.034483  14  16  18  20  \n     0.051724  13  15  17  19  \n     0.068966  13  15  17  19  \n...            ..  ..  ..  ..  \n 0.1 0.431034   1   3   5   7  \n     0.448276   0   2   4   6  \n     0.465517   0   0   2   4  \n     0.482759   0   0   0   2  \n     0.500000   0   0   0   0  \n\n[900 rows x 30 columns]",
      "text/html": "<div>\n<style scoped>\n    .dataframe tbody tr th:only-of-type {\n        vertical-align: middle;\n    }\n\n    .dataframe tbody tr th {\n        vertical-align: top;\n    }\n\n    .dataframe thead tr th {\n        text-align: left;\n    }\n\n    .dataframe thead tr:last-of-type th {\n        text-align: right;\n    }\n</style>\n<table border=\"1\" class=\"dataframe\">\n  <thead>\n    <tr>\n      <th></th>\n      <th>mult</th>\n      <th colspan=\"10\" halign=\"left\">2</th>\n      <th>...</th>\n      <th colspan=\"10\" halign=\"left\">6</th>\n    </tr>\n    <tr>\n      <th></th>\n      <th>inv</th>\n      <th>1</th>\n      <th>2</th>\n      <th>3</th>\n      <th>4</th>\n      <th>5</th>\n      <th>6</th>\n      <th>7</th>\n      <th>8</th>\n      <th>9</th>\n      <th>10</th>\n      <th>...</th>\n      <th>1</th>\n      <th>2</th>\n      <th>3</th>\n      <th>4</th>\n      <th>5</th>\n      <th>6</th>\n      <th>7</th>\n      <th>8</th>\n      <th>9</th>\n      <th>10</th>\n    </tr>\n    <tr>\n      <th>phi</th>\n      <th>theta</th>\n      <th></th>\n      <th></th>\n      <th></th>\n      <th></th>\n      <th></th>\n      <th></th>\n      <th></th>\n      <th></th>\n      <th></th>\n      <th></th>\n      <th></th>\n      <th></th>\n      <th></th>\n      <th></th>\n      <th></th>\n      <th></th>\n      <th></th>\n      <th></th>\n      <th></th>\n      <th></th>\n      <th></th>\n    </tr>\n  </thead>\n  <tbody>\n    <tr>\n      <th rowspan=\"5\" valign=\"top\">-0.1</th>\n      <th>0.000000</th>\n      <td>2</td>\n      <td>4</td>\n      <td>6</td>\n      <td>8</td>\n      <td>10</td>\n      <td>12</td>\n      <td>14</td>\n      <td>16</td>\n      <td>18</td>\n      <td>20</td>\n      <td>...</td>\n      <td>2</td>\n      <td>4</td>\n      <td>6</td>\n      <td>8</td>\n      <td>10</td>\n      <td>12</td>\n      <td>14</td>\n      <td>16</td>\n      <td>18</td>\n      <td>20</td>\n    </tr>\n    <tr>\n      <th>0.017241</th>\n      <td>2</td>\n      <td>4</td>\n      <td>6</td>\n      <td>8</td>\n      <td>10</td>\n      <td>12</td>\n      <td>14</td>\n      <td>15</td>\n      <td>17</td>\n      <td>19</td>\n      <td>...</td>\n      <td>2</td>\n      <td>4</td>\n      <td>6</td>\n      <td>8</td>\n      <td>10</td>\n      <td>12</td>\n      <td>14</td>\n      <td>16</td>\n      <td>18</td>\n      <td>20</td>\n    </tr>\n    <tr>\n      <th>0.034483</th>\n      <td>2</td>\n      <td>4</td>\n      <td>6</td>\n      <td>7</td>\n      <td>9</td>\n      <td>11</td>\n      <td>13</td>\n      <td>15</td>\n      <td>17</td>\n      <td>19</td>\n      <td>...</td>\n      <td>2</td>\n      <td>4</td>\n      <td>6</td>\n      <td>8</td>\n      <td>10</td>\n      <td>12</td>\n      <td>14</td>\n      <td>16</td>\n      <td>18</td>\n      <td>20</td>\n    </tr>\n    <tr>\n      <th>0.051724</th>\n      <td>2</td>\n      <td>4</td>\n      <td>5</td>\n      <td>7</td>\n      <td>9</td>\n      <td>11</td>\n      <td>12</td>\n      <td>14</td>\n      <td>16</td>\n      <td>18</td>\n      <td>...</td>\n      <td>2</td>\n      <td>4</td>\n      <td>6</td>\n      <td>8</td>\n      <td>10</td>\n      <td>12</td>\n      <td>13</td>\n      <td>15</td>\n      <td>17</td>\n      <td>19</td>\n    </tr>\n    <tr>\n      <th>0.068966</th>\n      <td>2</td>\n      <td>3</td>\n      <td>5</td>\n      <td>7</td>\n      <td>9</td>\n      <td>10</td>\n      <td>12</td>\n      <td>14</td>\n      <td>15</td>\n      <td>17</td>\n      <td>...</td>\n      <td>2</td>\n      <td>4</td>\n      <td>6</td>\n      <td>8</td>\n      <td>10</td>\n      <td>11</td>\n      <td>13</td>\n      <td>15</td>\n      <td>17</td>\n      <td>19</td>\n    </tr>\n    <tr>\n      <th>...</th>\n      <th>...</th>\n      <td>...</td>\n      <td>...</td>\n      <td>...</td>\n      <td>...</td>\n      <td>...</td>\n      <td>...</td>\n      <td>...</td>\n      <td>...</td>\n      <td>...</td>\n      <td>...</td>\n      <td>...</td>\n      <td>...</td>\n      <td>...</td>\n      <td>...</td>\n      <td>...</td>\n      <td>...</td>\n      <td>...</td>\n      <td>...</td>\n      <td>...</td>\n      <td>...</td>\n      <td>...</td>\n    </tr>\n    <tr>\n      <th rowspan=\"5\" valign=\"top\">0.1</th>\n      <th>0.431034</th>\n      <td>0</td>\n      <td>0</td>\n      <td>0</td>\n      <td>0</td>\n      <td>0</td>\n      <td>0</td>\n      <td>0</td>\n      <td>0</td>\n      <td>1</td>\n      <td>2</td>\n      <td>...</td>\n      <td>0</td>\n      <td>0</td>\n      <td>0</td>\n      <td>0</td>\n      <td>0</td>\n      <td>0</td>\n      <td>1</td>\n      <td>3</td>\n      <td>5</td>\n      <td>7</td>\n    </tr>\n    <tr>\n      <th>0.448276</th>\n      <td>0</td>\n      <td>0</td>\n      <td>0</td>\n      <td>0</td>\n      <td>0</td>\n      <td>0</td>\n      <td>0</td>\n      <td>0</td>\n      <td>0</td>\n      <td>2</td>\n      <td>...</td>\n      <td>0</td>\n      <td>0</td>\n      <td>0</td>\n      <td>0</td>\n      <td>0</td>\n      <td>0</td>\n      <td>0</td>\n      <td>2</td>\n      <td>4</td>\n      <td>6</td>\n    </tr>\n    <tr>\n      <th>0.465517</th>\n      <td>0</td>\n      <td>0</td>\n      <td>0</td>\n      <td>0</td>\n      <td>0</td>\n      <td>0</td>\n      <td>0</td>\n      <td>0</td>\n      <td>0</td>\n      <td>1</td>\n      <td>...</td>\n      <td>0</td>\n      <td>0</td>\n      <td>0</td>\n      <td>0</td>\n      <td>0</td>\n      <td>0</td>\n      <td>0</td>\n      <td>0</td>\n      <td>2</td>\n      <td>4</td>\n    </tr>\n    <tr>\n      <th>0.482759</th>\n      <td>0</td>\n      <td>0</td>\n      <td>0</td>\n      <td>0</td>\n      <td>0</td>\n      <td>0</td>\n      <td>0</td>\n      <td>0</td>\n      <td>0</td>\n      <td>1</td>\n      <td>...</td>\n      <td>0</td>\n      <td>0</td>\n      <td>0</td>\n      <td>0</td>\n      <td>0</td>\n      <td>0</td>\n      <td>0</td>\n      <td>0</td>\n      <td>0</td>\n      <td>2</td>\n    </tr>\n    <tr>\n      <th>0.500000</th>\n      <td>0</td>\n      <td>0</td>\n      <td>0</td>\n      <td>0</td>\n      <td>0</td>\n      <td>0</td>\n      <td>0</td>\n      <td>0</td>\n      <td>0</td>\n      <td>0</td>\n      <td>...</td>\n      <td>0</td>\n      <td>0</td>\n      <td>0</td>\n      <td>0</td>\n      <td>0</td>\n      <td>0</td>\n      <td>0</td>\n      <td>0</td>\n      <td>0</td>\n      <td>0</td>\n    </tr>\n  </tbody>\n</table>\n<p>900 rows × 30 columns</p>\n</div>"
     },
     "execution_count": 3,
     "metadata": {},
     "output_type": "execute_result"
    }
   ],
   "source": [
    "inv = np.arange(1, 11)\n",
    "mult = np.array([2, 4, 6])\n",
    "phi = np.linspace(-.1, .1, 30)\n",
    "theta = np.linspace(0.0, .5, 30)\n",
    "param_space = list(itertools.product(phi, theta))\n",
    "row_idx = pd.MultiIndex.from_product([phi, theta], names=['phi', 'theta'])\n",
    "col_idx = pd.MultiIndex.from_product([mult, inv], names=['mult', 'inv'])\n",
    "ret_bx = pd.DataFrame(index=row_idx, columns=col_idx)\n",
    "for p in tqdm(phi):\n",
    "    for th in theta:\n",
    "        for m in mult:\n",
    "            for i in inv:\n",
    "                ret_bx.loc[p, th].loc[m].loc[i] = mp_model_ppsoe(i, m, p, th)\n",
    "\n",
    "ret_bx"
   ],
   "metadata": {
    "collapsed": false,
    "pycharm": {
     "name": "#%%\n"
    }
   }
  },
  {
   "cell_type": "markdown",
   "source": [
    "## 3A. Pairwise similarity of simulated return behaviors."
   ],
   "metadata": {
    "collapsed": false
   }
  },
  {
   "cell_type": "code",
   "execution_count": null,
   "outputs": [
    {
     "name": "stderr",
     "output_type": "stream",
     "text": [
      " 10%|▉         | 87/900 [01:06<10:31,  1.29it/s]"
     ]
    }
   ],
   "source": [
    "sim_ret = pd.DataFrame(index=row_idx, columns=row_idx)\n",
    "for (p1, th1) in tqdm(param_space):\n",
    "    for (p2, th2) in param_space:\n",
    "        sim_ret.loc[(p1, th1), (p2, th2)] = np.linalg.norm(abs(ret_bx.loc[p1, th1] - ret_bx.loc[p2, th2]))\n",
    "\n",
    "for col in sim_ret.columns:\n",
    "        sim_ret[col] = sim_ret[col].astype(float) # not sure why seaborn makes me do this\n",
    "sns.heatmap(sim_ret)"
   ],
   "metadata": {
    "collapsed": false,
    "pycharm": {
     "name": "#%%\n"
    }
   }
  },
  {
   "cell_type": "markdown",
   "source": [
    "# 4. Models to Propose"
   ],
   "metadata": {
    "collapsed": false
   }
  },
  {
   "cell_type": "markdown",
   "source": [
    "## 4.1 : Base Class"
   ],
   "metadata": {
    "collapsed": false
   }
  },
  {
   "cell_type": "code",
   "execution_count": 4,
   "outputs": [],
   "source": [
    "class Agent:\n",
    "    def __init__(self, ret_bx, mental_state, noise):\n",
    "        \"\"\"\n",
    "        Behaving Agent\n",
    "\n",
    "        :param mental_state:(phi, theta) param values\n",
    "        :param ret_bx: pandas DF, multiIndex DF of simulated behavior\n",
    "        \"\"\"\n",
    "        self.mind = mental_state\n",
    "        self.ret_bx = ret_bx\n",
    "        self.noise = noise\n",
    "\n",
    "    def behave(self, context):\n",
    "        \"\"\"\n",
    "\n",
    "        :param context: (mult, inv)\n",
    "        :return:bx in HMTG that agent in given mental state will choose in given context\n",
    "        \"\"\"\n",
    "        bx = self.ret_bx.loc[self.mind[0], self.mind[1]][context[0]][context[1]]\n",
    "        return bx + np.random.normal(0, self.noise, 1)[0]\n",
    "\n",
    "\n",
    "class Mentalizer:\n",
    "    def __init__(self, possibilities, consideration_set_sz):\n",
    "        self.contexts_obrvd = []\n",
    "        self.bx_obsrvd = []\n",
    "        self.possibilities = possibilities\n",
    "        self.intuition = {possib: [] for possib in possibilities}\n",
    "        self.cf_diffs = {possib: [] for possib in possibilities}\n",
    "        self.predictions = []\n",
    "        self.candidate = []\n",
    "        self.n_considered = consideration_set_sz\n",
    "        self.pe = []\n",
    "\n",
    "    def observe(self, agent, context):\n",
    "        \"\"\"\n",
    "        sample observations of agent behavior in a given context\n",
    "\n",
    "        :param agent: instance of Agent class\n",
    "        :param context: constraints of the context. (mult, inv) for HMTG\n",
    "        :return:\n",
    "        \"\"\"\n",
    "        obs = agent.behave(context)\n",
    "        self.contexts_obrvd.append(context)\n",
    "        self.bx_obsrvd.append(obs)\n",
    "        p = self.predictions[-1]/(context[0]*context[1])\n",
    "        o = obs/(context[0]*context[1])\n",
    "        self.pe.append(abs(p - o))\n",
    "\n",
    "    def generate(self, mental_cause, context):\n",
    "        \"\"\"\n",
    "        Mentalizer's generative causal model mapping mental states to behavior in context\n",
    "\n",
    "        :param mental_cause: mental state parameters\n",
    "        :param context: constraints of the context. (mult, inv) for HMTG\n",
    "        :return: simulated behavior according to the mentalizer's internal simulations\n",
    "        \"\"\"\n",
    "        simulated_bx = None\n",
    "        return simulated_bx\n",
    "\n",
    "    def _intuit(self):\n",
    "        self.intuition = {possib: [self.generate(mental_cause=possib, context=cntx) for cntx in self.contexts_obrvd] for possib in self.possibilities}\n",
    "\n",
    "    def cf_dependence(self):\n",
    "        self._intuit()\n",
    "        for possib in self.possibilities:\n",
    "            dist = np.linalg.norm(np.array(self.intuition[possib]) - np.array(self.bx_obsrvd)) # CF - observations\n",
    "            self.cf_diffs[possib].append(dist)\n",
    "\n",
    "    def evaluate_pred_accuracy(self):\n",
    "        \"\"\"\n",
    "        This method determines whether more possibilities need to be considered. It has one condition for this.\n",
    "        1. Was the mean of the last 3 predictions > 80% accurate. before 3 observations, just last prediction\n",
    "        :return: bool\n",
    "        \"\"\"\n",
    "\n",
    "        if len(self.bx_obsrvd) > 3:\n",
    "            acc = np.mean(self.pe[-3:])\n",
    "        else:\n",
    "            acc = self.pe[-1]\n",
    "\n",
    "        if acc <= .08:\n",
    "            return True #good enough\n",
    "        else:\n",
    "            return False\n",
    "\n",
    "    def reduce_possibilities(self):\n",
    "        pass\n",
    "\n",
    "    def refine_possibilities(self):\n",
    "        pass\n",
    "\n",
    "    def predict_future(self, context):\n",
    "        pass\n",
    "\n"
   ],
   "metadata": {
    "collapsed": false,
    "pycharm": {
     "name": "#%%\n"
    }
   }
  },
  {
   "cell_type": "markdown",
   "source": [
    "## 4.2: Proposed Models\n",
    "Each class will differ in:\n",
    "    1. It's causal simulation engine mapping mental states to behavior in context.\n",
    "    2. The possibilities it considers\n",
    "    3. How it reduces these possibilities\n",
    "    4. How it refines or increases possibilities\n",
    "    5. How it predicts future behavior\n",
    "    6. (maybe later) How it evaluates itself on accuracy"
   ],
   "metadata": {
    "collapsed": false
   }
  },
  {
   "cell_type": "markdown",
   "source": [
    "### 4.2.1: Moral Strategy Model Mentalizer\n",
    "\n",
    "Params:\n",
    "    - accuracy threshold: decision param for augmenting or reducing possibilities to consider.\n",
    "    - possibility grain: The granularity of possibility space to consider. static over time.\n",
    "    - similarity threshold: the maximum distance between CFs and observations before exclusion from further consideration\n",
    "\n",
    "\n",
    "**Simulation engine**: Moral Strategy model from van Baar 2019\n",
    "**Possibilities**: 2D parameter space where each axis is discretized by possibility grain\n",
    "**Reduction**: excluding all possible CFs whose simulated bx is above similarity threshold to observed behavior\n",
    "**Refinement**: further discretizing the range of active possibilities by grain param\n",
    "**Prediction**:\n"
   ],
   "metadata": {
    "collapsed": false
   }
  },
  {
   "cell_type": "code",
   "execution_count": 5,
   "outputs": [],
   "source": [
    "class MPM_Mentalizer(Mentalizer):\n",
    "    def __init__(self, possibilities, consideration_set_sz, possib_grain=10, sim_threshold=5):\n",
    "        super().__init__(possibilities, consideration_set_sz)\n",
    "        self.possib_grain = possib_grain\n",
    "        self.sim_threshld = sim_threshold\n",
    "\n",
    "    def generate(self, mental_cause, context):\n",
    "        \"\"\"\n",
    "        MP_model\n",
    "\n",
    "        :param mental_cause: mental state parameters\n",
    "        :param context: constraints of the context. (mult, inv) for HMTG\n",
    "         :return: simulated behavior according to the mentalizer's internal simulations\n",
    "        \"\"\"\n",
    "        simulated_bx = mp_model_ppsoe(context[1], context[0], mental_cause[0], mental_cause[1])\n",
    "        return simulated_bx\n",
    "\n",
    "    def reduce_possibilities(self):\n",
    "        self.cf_dependence()\n",
    "        min_cf_dist = sorted(self.cf_diffs.items(), key=lambda x:x[1][-1]) # sort by last element trajectory of CF diffs\n",
    "        for (cf, distance) in min_cf_dist:\n",
    "            while len(self.possibilities) > 2:\n",
    "                if distance[-1] > self.sim_threshld:\n",
    "                    self.possibilities.remove(cf)\n",
    "\n",
    "        #self.sim_threshld = self.sim_threshld * 1.04\n",
    "\n",
    "\n",
    "    def refine_possibilities(self):\n",
    "        min_p1, min_p2 = [min(self.possibilities, key = lambda t:t[x])[x] for x in [0, 1]] #p1 phi, p2 theta\n",
    "        max_p1, max_p2 = [max(self.possibilities, key = lambda t:t[x])[x] for x in [0, 1]]\n",
    "        self.possibilities = list(itertools.product(np.linspace(min_p1, max_p1, self.possib_grain), np.linspace(min_p1, max_p1, self.possib_grain)))\n",
    "        self.cf_diffs = {possib: [] for possib in self.possibilities}\n",
    "        self.cf_dependence()\n",
    "\n",
    "\n",
    "    def predict_future(self, context):\n",
    "        if len(self.bx_obsrvd) == 0:\n",
    "            # choose a random possibility\n",
    "            self.candidate.append(self.possibilities[np.random.randint(len(self.possibilities))])\n",
    "        else:\n",
    "            if self.evaluate_pred_accuracy(): # last (three) prediction was good enough\n",
    "                self.candidate.append(self.candidate[-1]) # continue with the same candidate\n",
    "            else:\n",
    "                if len(self.possibilities) > self.possib_grain: # self.n_considered: # If the space of possibilities is larger than I can consider\n",
    "                    self.reduce_possibilities()\n",
    "                else: # If the possibility space is not too broad, but I'm still not accurate enough\n",
    "                    self.refine_possibilities()\n",
    "\n",
    "                min_cf_dist = sorted(self.cf_diffs.items(), key=lambda x:x[1][-1])[0][0] # sort by last element trajectory of CF diffs\n",
    "                self.candidate.append(min_cf_dist)\n",
    "        # Make prediction\n",
    "        self.predictions.append(self.generate(mental_cause=self.candidate[-1], context=context))"
   ],
   "metadata": {
    "collapsed": false,
    "pycharm": {
     "name": "#%%\n"
    }
   }
  },
  {
   "cell_type": "markdown",
   "source": [
    "### Testing Moral Strategy Model Mentalizer"
   ],
   "metadata": {
    "collapsed": false
   }
  },
  {
   "cell_type": "code",
   "execution_count": 6,
   "outputs": [],
   "source": [
    "#agent = Agent(ret_bx, (phi[7], theta[4]))\n",
    "\n",
    "possibs = list(itertools.product(np.linspace(-.1, .1, 10),\n",
    "                                 np.linspace(0.0, .5, 10)\n",
    "                                 ))\n",
    "#m1 = MPM_Mentalizer(possibilities=possibs, consideration_set_sz=5, possib_grain=5, sim_threshold=8 )"
   ],
   "metadata": {
    "collapsed": false,
    "pycharm": {
     "name": "#%%\n"
    }
   }
  },
  {
   "cell_type": "code",
   "execution_count": 7,
   "outputs": [
    {
     "name": "stderr",
     "output_type": "stream",
     "text": [
      "  0%|          | 0/10 [05:14<?, ?it/s]\n"
     ]
    },
    {
     "ename": "KeyboardInterrupt",
     "evalue": "",
     "output_type": "error",
     "traceback": [
      "\u001B[0;31m---------------------------------------------------------------------------\u001B[0m",
      "\u001B[0;31mKeyboardInterrupt\u001B[0m                         Traceback (most recent call last)",
      "\u001B[0;32m<ipython-input-7-6f88f88f7b7f>\u001B[0m in \u001B[0;36m<module>\u001B[0;34m\u001B[0m\n\u001B[1;32m      5\u001B[0m     \u001B[0;32mfor\u001B[0m \u001B[0mt\u001B[0m \u001B[0;32min\u001B[0m \u001B[0mrange\u001B[0m\u001B[0;34m(\u001B[0m\u001B[0;36m61\u001B[0m\u001B[0;34m)\u001B[0m\u001B[0;34m:\u001B[0m\u001B[0;34m\u001B[0m\u001B[0;34m\u001B[0m\u001B[0m\n\u001B[1;32m      6\u001B[0m         \u001B[0mctx\u001B[0m \u001B[0;34m=\u001B[0m \u001B[0;34m(\u001B[0m\u001B[0mnp\u001B[0m\u001B[0;34m.\u001B[0m\u001B[0mrandom\u001B[0m\u001B[0;34m.\u001B[0m\u001B[0mchoice\u001B[0m\u001B[0;34m(\u001B[0m\u001B[0mmult\u001B[0m\u001B[0;34m)\u001B[0m\u001B[0;34m,\u001B[0m\u001B[0mnp\u001B[0m\u001B[0;34m.\u001B[0m\u001B[0mrandom\u001B[0m\u001B[0;34m.\u001B[0m\u001B[0mchoice\u001B[0m\u001B[0;34m(\u001B[0m\u001B[0minv\u001B[0m\u001B[0;34m)\u001B[0m\u001B[0;34m)\u001B[0m\u001B[0;34m\u001B[0m\u001B[0;34m\u001B[0m\u001B[0m\n\u001B[0;32m----> 7\u001B[0;31m         \u001B[0mm1\u001B[0m\u001B[0;34m.\u001B[0m\u001B[0mpredict_future\u001B[0m\u001B[0;34m(\u001B[0m\u001B[0mcontext\u001B[0m\u001B[0;34m=\u001B[0m\u001B[0mctx\u001B[0m\u001B[0;34m)\u001B[0m\u001B[0;34m\u001B[0m\u001B[0;34m\u001B[0m\u001B[0m\n\u001B[0m\u001B[1;32m      8\u001B[0m         \u001B[0mm1\u001B[0m\u001B[0;34m.\u001B[0m\u001B[0mobserve\u001B[0m\u001B[0;34m(\u001B[0m\u001B[0magent\u001B[0m\u001B[0;34m,\u001B[0m \u001B[0mcontext\u001B[0m\u001B[0;34m=\u001B[0m\u001B[0mctx\u001B[0m\u001B[0;34m)\u001B[0m\u001B[0;34m\u001B[0m\u001B[0;34m\u001B[0m\u001B[0m\n\u001B[1;32m      9\u001B[0m     \u001B[0merrs\u001B[0m \u001B[0;34m=\u001B[0m \u001B[0mpd\u001B[0m\u001B[0;34m.\u001B[0m\u001B[0mDataFrame\u001B[0m\u001B[0;34m(\u001B[0m\u001B[0;34m{\u001B[0m\u001B[0;34m'agent'\u001B[0m\u001B[0;34m:\u001B[0m \u001B[0magnt\u001B[0m\u001B[0;34m,\u001B[0m \u001B[0;34m'PE'\u001B[0m\u001B[0;34m:\u001B[0m \u001B[0mm1\u001B[0m\u001B[0;34m.\u001B[0m\u001B[0mpe\u001B[0m\u001B[0;34m,\u001B[0m \u001B[0;34m'T'\u001B[0m\u001B[0;34m:\u001B[0m\u001B[0mrange\u001B[0m\u001B[0;34m(\u001B[0m\u001B[0;36m1\u001B[0m\u001B[0;34m,\u001B[0m \u001B[0mt\u001B[0m\u001B[0;34m+\u001B[0m\u001B[0;36m2\u001B[0m\u001B[0;34m)\u001B[0m\u001B[0;34m}\u001B[0m\u001B[0;34m)\u001B[0m\u001B[0;34m\u001B[0m\u001B[0;34m\u001B[0m\u001B[0m\n",
      "\u001B[0;32m<ipython-input-5-fee748af8770>\u001B[0m in \u001B[0;36mpredict_future\u001B[0;34m(self, context)\u001B[0m\n\u001B[1;32m     44\u001B[0m             \u001B[0;32melse\u001B[0m\u001B[0;34m:\u001B[0m\u001B[0;34m\u001B[0m\u001B[0;34m\u001B[0m\u001B[0m\n\u001B[1;32m     45\u001B[0m                 \u001B[0;32mif\u001B[0m \u001B[0mlen\u001B[0m\u001B[0;34m(\u001B[0m\u001B[0mself\u001B[0m\u001B[0;34m.\u001B[0m\u001B[0mpossibilities\u001B[0m\u001B[0;34m)\u001B[0m \u001B[0;34m>\u001B[0m \u001B[0mself\u001B[0m\u001B[0;34m.\u001B[0m\u001B[0mpossib_grain\u001B[0m\u001B[0;34m:\u001B[0m \u001B[0;31m# self.n_considered: # If the space of possibilities is larger than I can consider\u001B[0m\u001B[0;34m\u001B[0m\u001B[0;34m\u001B[0m\u001B[0m\n\u001B[0;32m---> 46\u001B[0;31m                     \u001B[0mself\u001B[0m\u001B[0;34m.\u001B[0m\u001B[0mreduce_possibilities\u001B[0m\u001B[0;34m(\u001B[0m\u001B[0;34m)\u001B[0m\u001B[0;34m\u001B[0m\u001B[0;34m\u001B[0m\u001B[0m\n\u001B[0m\u001B[1;32m     47\u001B[0m                 \u001B[0;32melse\u001B[0m\u001B[0;34m:\u001B[0m \u001B[0;31m# If the possibility space is not too broad, but I'm still not accurate enough\u001B[0m\u001B[0;34m\u001B[0m\u001B[0;34m\u001B[0m\u001B[0m\n\u001B[1;32m     48\u001B[0m                     \u001B[0mself\u001B[0m\u001B[0;34m.\u001B[0m\u001B[0mrefine_possibilities\u001B[0m\u001B[0;34m(\u001B[0m\u001B[0;34m)\u001B[0m\u001B[0;34m\u001B[0m\u001B[0;34m\u001B[0m\u001B[0m\n",
      "\u001B[0;32m<ipython-input-5-fee748af8770>\u001B[0m in \u001B[0;36mreduce_possibilities\u001B[0;34m(self)\u001B[0m\n\u001B[1;32m     21\u001B[0m         \u001B[0;32mfor\u001B[0m \u001B[0;34m(\u001B[0m\u001B[0mcf\u001B[0m\u001B[0;34m,\u001B[0m \u001B[0mdistance\u001B[0m\u001B[0;34m)\u001B[0m \u001B[0;32min\u001B[0m \u001B[0mmin_cf_dist\u001B[0m\u001B[0;34m:\u001B[0m\u001B[0;34m\u001B[0m\u001B[0;34m\u001B[0m\u001B[0m\n\u001B[1;32m     22\u001B[0m             \u001B[0;32mwhile\u001B[0m \u001B[0mlen\u001B[0m\u001B[0;34m(\u001B[0m\u001B[0mself\u001B[0m\u001B[0;34m.\u001B[0m\u001B[0mpossibilities\u001B[0m\u001B[0;34m)\u001B[0m \u001B[0;34m>\u001B[0m \u001B[0;36m2\u001B[0m\u001B[0;34m:\u001B[0m\u001B[0;34m\u001B[0m\u001B[0;34m\u001B[0m\u001B[0m\n\u001B[0;32m---> 23\u001B[0;31m                 \u001B[0;32mif\u001B[0m \u001B[0mdistance\u001B[0m\u001B[0;34m[\u001B[0m\u001B[0;34m-\u001B[0m\u001B[0;36m1\u001B[0m\u001B[0;34m]\u001B[0m \u001B[0;34m>\u001B[0m \u001B[0mself\u001B[0m\u001B[0;34m.\u001B[0m\u001B[0msim_threshld\u001B[0m\u001B[0;34m:\u001B[0m\u001B[0;34m\u001B[0m\u001B[0;34m\u001B[0m\u001B[0m\n\u001B[0m\u001B[1;32m     24\u001B[0m                     \u001B[0mself\u001B[0m\u001B[0;34m.\u001B[0m\u001B[0mpossibilities\u001B[0m\u001B[0;34m.\u001B[0m\u001B[0mremove\u001B[0m\u001B[0;34m(\u001B[0m\u001B[0mcf\u001B[0m\u001B[0;34m)\u001B[0m\u001B[0;34m\u001B[0m\u001B[0;34m\u001B[0m\u001B[0m\n\u001B[1;32m     25\u001B[0m \u001B[0;34m\u001B[0m\u001B[0m\n",
      "\u001B[0;31mKeyboardInterrupt\u001B[0m: "
     ]
    }
   ],
   "source": [
    "mod_errs = pd.DataFrame(columns=['agent', 'PE', 'T'])\n",
    "for agnt in tqdm(range(1, 11)):\n",
    "    agent = Agent(ret_bx, mental_state=(phi[np.random.randint(30)], theta[np.random.randint(30)]), noise=1)\n",
    "    m1 = MPM_Mentalizer(possibilities=possibs, consideration_set_sz=5, possib_grain=10, sim_threshold=5)\n",
    "    for t in range(61):\n",
    "        ctx = (np.random.choice(mult),np.random.choice(inv))\n",
    "        m1.predict_future(context=ctx)\n",
    "        m1.observe(agent, context=ctx)\n",
    "    errs = pd.DataFrame({'agent': agnt, 'PE': m1.pe, 'T':range(1, t+2)})\n",
    "    mod_errs = mod_errs.append(errs, ignore_index=True)\n",
    "\n",
    "sns.lineplot(x='T', y='PE', data=mod_errs)"
   ],
   "metadata": {
    "collapsed": false,
    "pycharm": {
     "name": "#%%\n"
    }
   }
  },
  {
   "cell_type": "code",
   "execution_count": null,
   "outputs": [],
   "source": [
    "agent = Agent(ret_bx, mental_state=(phi[np.random.randint(30)], theta[np.random.randint(30)]), noise=1)\n",
    "    m1 = MPM_Mentalizer(possibilities=possibs, consideration_set_sz=5, possib_grain=10, sim_threshold=5)\n",
    "    for t in range(61):\n",
    "        ctx = (np.random.choice(mult),np.random.choice(inv))\n",
    "        m1.predict_future(context=ctx)\n",
    "        m1.observe(agent, context=ctx)\n",
    "    errs = pd.DataFrame({'agent': agnt, 'PE': m1.pe, 'T':range(1, t+2)})"
   ],
   "metadata": {
    "collapsed": false,
    "pycharm": {
     "name": "#%%\n"
    }
   }
  },
  {
   "cell_type": "markdown",
   "source": [
    "## 4.2.2: Moral Strategy Mentalizer -  Take the top X% of possibilities"
   ],
   "metadata": {
    "collapsed": false,
    "pycharm": {
     "name": "#%% md\n"
    }
   }
  },
  {
   "cell_type": "markdown",
   "source": [
    "## 4.2.3: Moral Strategy Mentalizer - Nelder-Mead"
   ],
   "metadata": {
    "collapsed": false
   }
  },
  {
   "cell_type": "code",
   "execution_count": null,
   "outputs": [],
   "source": [],
   "metadata": {
    "collapsed": false,
    "pycharm": {
     "name": "#%%\n"
    }
   }
  },
  {
   "cell_type": "code",
   "execution_count": 18,
   "outputs": [
    {
     "data": {
      "text/plain": "((-0.1, 0.2222222222222222), [1.3884045758486296])"
     },
     "execution_count": 18,
     "metadata": {},
     "output_type": "execute_result"
    }
   ],
   "source": [
    "\n",
    "sorted(m1.cf_diffs.items(), key=lambda x:x[1][-1])[0]"
   ],
   "metadata": {
    "collapsed": false,
    "pycharm": {
     "name": "#%%\n"
    }
   }
  },
  {
   "cell_type": "code",
   "execution_count": 20,
   "outputs": [
    {
     "data": {
      "text/plain": "0.041666666666666664"
     },
     "execution_count": 20,
     "metadata": {},
     "output_type": "execute_result"
    }
   ],
   "source": [
    "np.mean(m1.pe[-3:])"
   ],
   "metadata": {
    "collapsed": false,
    "pycharm": {
     "name": "#%%\n"
    }
   }
  },
  {
   "cell_type": "code",
   "execution_count": 17,
   "outputs": [
    {
     "data": {
      "text/plain": "[<matplotlib.lines.Line2D at 0x7faacf2a2130>]"
     },
     "execution_count": 17,
     "metadata": {},
     "output_type": "execute_result"
    },
    {
     "data": {
      "text/plain": "<Figure size 432x288 with 1 Axes>",
      "image/png": "[encoded data removed]"
     },
     "metadata": {
      "needs_background": "light"
     },
     "output_type": "display_data"
    }
   ],
   "source": [
    "import matplotlib.pyplot as plt\n",
    "plt.plot(range(len(m1.predictions)), m1.pe)"
   ],
   "metadata": {
    "collapsed": false,
    "pycharm": {
     "name": "#%%\n"
    }
   }
  },
  {
   "cell_type": "code",
   "execution_count": 30,
   "outputs": [
    {
     "name": "stdout",
     "output_type": "stream",
     "text": [
      "[0.  1.  0.5 0.5 1. ]\n",
      "[0.75   0.8    0.4375 0.4375 0.75  ]\n"
     ]
    }
   ],
   "source": [
    "p = np.divide(m1.predictions,[i * m for (m, i ) in m1.contexts_obrvd])\n",
    "o = np.divide(m1.bx_obsrvd,[i * m for (m, i ) in m1.contexts_obrvd])\n",
    "print(p)\n",
    "print(o)"
   ],
   "metadata": {
    "collapsed": false,
    "pycharm": {
     "name": "#%%\n"
    }
   }
  },
  {
   "cell_type": "code",
   "execution_count": 36,
   "outputs": [
    {
     "data": {
      "text/plain": "array([0.75  , 0.2   , 0.0625, 0.0625, 0.25  ])"
     },
     "execution_count": 36,
     "metadata": {},
     "output_type": "execute_result"
    }
   ],
   "source": [
    "abs(p-o)"
   ],
   "metadata": {
    "collapsed": false,
    "pycharm": {
     "name": "#%%\n"
    }
   }
  },
  {
   "cell_type": "code",
   "execution_count": 35,
   "outputs": [
    {
     "data": {
      "text/plain": "0.125"
     },
     "execution_count": 35,
     "metadata": {},
     "output_type": "execute_result"
    }
   ],
   "source": [
    "abs(p-o)[-3:].mean()\n"
   ],
   "metadata": {
    "collapsed": false,
    "pycharm": {
     "name": "#%%\n"
    }
   }
  },
  {
   "cell_type": "code",
   "execution_count": 26,
   "outputs": [
    {
     "data": {
      "text/plain": "[0.0, 10.0, 16.0, 8.0, 16.0]"
     },
     "execution_count": 26,
     "metadata": {},
     "output_type": "execute_result"
    }
   ],
   "source": [
    "m1.predictions"
   ],
   "metadata": {
    "collapsed": false,
    "pycharm": {
     "name": "#%%\n"
    }
   }
  },
  {
   "cell_type": "code",
   "execution_count": null,
   "outputs": [],
   "source": [],
   "metadata": {
    "collapsed": false,
    "pycharm": {
     "name": "#%%\n"
    }
   }
  }
 ],
 "metadata": {
  "kernelspec": {
   "name": "pycharm-f7c24000",
   "language": "python",
   "display_name": "PyCharm (mTurkBx)"
  },
  "language_info": {
   "codemirror_mode": {
    "name": "ipython",
    "version": 2
   },
   "file_extension": ".py",
   "mimetype": "text/x-python",
   "name": "python",
   "nbconvert_exporter": "python",
   "pygments_lexer": "ipython2",
   "version": "2.7.6"
  }
 },
 "nbformat": 4,
 "nbformat_minor": 0
}