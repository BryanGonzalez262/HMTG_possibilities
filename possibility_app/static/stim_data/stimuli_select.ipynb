{
 "cells": [
  {
   "cell_type": "code",
   "execution_count": 1,
   "outputs": [],
   "source": [
    "import pandas as pd\n",
    "import numpy as np\n",
    "\n"
   ],
   "metadata": {
    "collapsed": false,
    "pycharm": {
     "name": "#%%\n"
    }
   }
  },
  {
   "cell_type": "markdown",
   "source": [
    "# Starting from HMTG Obversation Data (González et al)"
   ],
   "metadata": {
    "collapsed": false
   }
  },
  {
   "cell_type": "code",
   "execution_count": 2,
   "outputs": [],
   "source": [
    "allDat = pd.read_csv('turkData_exp2.csv', index_col=0, header=0)\n",
    "allDat.drop(labels=['turker', 'turker_id', 'pred', 'exp', 'pred_rt', 'pred_prcnt', 'turker_pe', 'ret_prcnt'], axis=1, inplace=True)\n",
    "allDat.rename({'im': 'IM'}, inplace=True)\n"
   ],
   "metadata": {
    "collapsed": false,
    "pycharm": {
     "name": "#%%\n"
    }
   }
  },
  {
   "cell_type": "code",
   "execution_count": 3,
   "outputs": [],
   "source": [
    "xx = allDat.loc[allDat.trustee == allDat.trustee.unique()[0]][:57]\n",
    "for p2 in allDat.trustee.unique()[1:]:\n",
    "    xx = xx.append(allDat.loc[allDat.trustee == p2][:57])\n",
    "\n",
    "xx.reset_index(drop=True, inplace=True)\n",
    "xx.to_csv('HMTG_possib_stim.csv', sep=\",\", header=True)"
   ],
   "metadata": {
    "collapsed": false,
    "pycharm": {
     "name": "#%%\n"
    }
   }
  },
  {
   "cell_type": "code",
   "execution_count": 4,
   "outputs": [],
   "source": [
    "\n",
    "xx.to_json('HMTG_possib_stim.js', orient='records')\n"
   ],
   "metadata": {
    "collapsed": false,
    "pycharm": {
     "name": "#%%\n"
    }
   }
  },
  {
   "cell_type": "markdown",
   "source": [
    "# Probes"
   ],
   "metadata": {
    "collapsed": false
   }
  },
  {
   "cell_type": "markdown",
   "source": [
    "# Starting from Original HMTG Data"
   ],
   "metadata": {
    "collapsed": false
   }
  },
  {
   "cell_type": "code",
   "execution_count": 2,
   "metadata": {
    "collapsed": true
   },
   "outputs": [
    {
     "data": {
      "text/plain": "   subj  trial  inv  mult  ret\n0     1      1    9     4   18\n1     1      2    6     6   10\n2     1      3    4     4    4\n3     1      4    5     2    2\n4     1      5    3     6    3",
      "text/html": "<div>\n<style scoped>\n    .dataframe tbody tr th:only-of-type {\n        vertical-align: middle;\n    }\n\n    .dataframe tbody tr th {\n        vertical-align: top;\n    }\n\n    .dataframe thead th {\n        text-align: right;\n    }\n</style>\n<table border=\"1\" class=\"dataframe\">\n  <thead>\n    <tr style=\"text-align: right;\">\n      <th></th>\n      <th>subj</th>\n      <th>trial</th>\n      <th>inv</th>\n      <th>mult</th>\n      <th>ret</th>\n    </tr>\n  </thead>\n  <tbody>\n    <tr>\n      <th>0</th>\n      <td>1</td>\n      <td>1</td>\n      <td>9</td>\n      <td>4</td>\n      <td>18</td>\n    </tr>\n    <tr>\n      <th>1</th>\n      <td>1</td>\n      <td>2</td>\n      <td>6</td>\n      <td>6</td>\n      <td>10</td>\n    </tr>\n    <tr>\n      <th>2</th>\n      <td>1</td>\n      <td>3</td>\n      <td>4</td>\n      <td>4</td>\n      <td>4</td>\n    </tr>\n    <tr>\n      <th>3</th>\n      <td>1</td>\n      <td>4</td>\n      <td>5</td>\n      <td>2</td>\n      <td>2</td>\n    </tr>\n    <tr>\n      <th>4</th>\n      <td>1</td>\n      <td>5</td>\n      <td>3</td>\n      <td>6</td>\n      <td>3</td>\n    </tr>\n  </tbody>\n</table>\n</div>"
     },
     "execution_count": 2,
     "metadata": {},
     "output_type": "execute_result"
    }
   ],
   "source": [
    "import pandas as pd\n",
    "import numpy as np\n",
    "\n",
    "allData = pd.read_csv('allDataLongFollowup.csv', sep=\",\", names=['subj','block', 'trial', 'inv','baseMult','mult','exp','ret'])\n",
    "allData = allData[allData.baseMult == 4].drop(labels=['block', 'exp', 'baseMult'], axis=1).reset_index(drop=True)\n",
    "allData = allData[(allData.subj != 7) & (allData.subj != 43)].reset_index(drop = True) # excluding these subs for reasons Jeroen VBaar told me on slack -_-\n",
    "allData.head()"
   ]
  },
  {
   "cell_type": "markdown",
   "source": [
    "# Identifying trustees to use as stimuli"
   ],
   "metadata": {
    "collapsed": false
   }
  },
  {
   "cell_type": "code",
   "execution_count": 3,
   "outputs": [],
   "source": [
    "param_space = pd.read_csv('ClusteringMap_study-1_baseMult-4_model-MP_precision-100.csv', sep=\",\")\n",
    "param_space_melt = param_space.melt(id_vars='phi', value_vars=param_space.keys()[1:], var_name='theta', value_name='cluster')\n",
    "param_space_melt['theta'] = pd.to_numeric(param_space_melt.theta)\n",
    "cluster_centers = [np.mean(param_space_melt[param_space_melt.cluster == x]) for x in np.arange(4)]"
   ],
   "metadata": {
    "collapsed": false,
    "pycharm": {
     "name": "#%%\n"
    }
   }
  },
  {
   "cell_type": "markdown",
   "source": [
    "### Computing Each Trustee's distance from their cluster origin"
   ],
   "metadata": {
    "collapsed": false
   }
  },
  {
   "cell_type": "code",
   "execution_count": 4,
   "outputs": [],
   "source": [
    "trustee_params = pd.read_csv('ParamsClusters_study-1_baseMult-4_model-MP_ppSOE_precision-100.csv',\n",
    "                             sep=\",\", index_col=0).rename(index=str, columns={'sub': 'subj'})\n",
    "trustee_params = trustee_params[(trustee_params.subj != 7) & (trustee_params.subj != 43)].reset_index(drop=True) #exclude 2 subjects\n",
    "trustee_params['dist2cntr'] = 0\n",
    "closest_trustees = []\n",
    "\n",
    "for cluster in trustee_params.clust.unique():\n",
    "    for subject in trustee_params[trustee_params.clust == cluster].subj:\n",
    "        thayta = trustee_params.theta.loc[trustee_params.subj == subject]\n",
    "        phee = trustee_params.phi.loc[trustee_params.subj == subject]\n",
    "        trustee_params.loc[trustee_params.subj == subject, 'dist2cntr'] = np.sqrt(\n",
    "            (abs(thayta - cluster_centers[cluster].theta)**2) + (abs(phee - cluster_centers[cluster].phi)**2))\n",
    "\n",
    "    a = trustee_params[trustee_params.clust == cluster]\n",
    "    closest_trustees.append(a.sort_values('dist2cntr')[:5].subj.tolist())\n",
    "\n",
    "\n",
    "\n",
    "subs_to_observe = [item for sublist in closest_trustees for item in sublist]\n"
   ],
   "metadata": {
    "collapsed": false,
    "pycharm": {
     "name": "#%%\n"
    }
   }
  },
  {
   "cell_type": "markdown",
   "source": [
    "## A little more cleaning / formatting of stimulus variables for experiment"
   ],
   "metadata": {
    "collapsed": false
   }
  },
  {
   "cell_type": "code",
   "execution_count": 5,
   "outputs": [],
   "source": [
    "\n",
    "allData = allData[allData['subj'].isin(subs_to_observe)].reset_index(drop=True)\n",
    "# recomputing 'expectation' variable\n",
    "allData['exp'] = allData.inv * 2\n",
    "allData['IM'] = allData.inv * allData.mult\n",
    "\n",
    "# remove inv == 0 trials\n",
    "allData = allData[allData.inv > 0].reset_index(drop=True)\n",
    "# Removing extra x4 trials.\n",
    "\n",
    "allData['trial'] = 0\n",
    "\n",
    "for sub in allData.subj.unique():\n",
    "    game = allData[allData.subj == sub] #.reset_index(drop=True)\n",
    "    trials_per_context = min(sum(game.mult == 2),\n",
    "                             sum(game.mult == 4),\n",
    "                             sum(game.mult == 6))\n",
    "    for x in [2,4,6]:\n",
    "        x_trials = game[game.mult == x].index\n",
    "        keep = np.random.choice(x_trials, size=trials_per_context, replace=False)\n",
    "        drop = x_trials[~x_trials.isin(keep)]\n",
    "        allData = allData.drop(drop, axis=0)\n",
    "\n",
    "    allData.loc[allData.subj == sub, 'trial'] = np.arange(sum(allData.subj == sub))\n",
    "\n",
    "\n",
    "allData = allData.rename(index =str, columns={'subj': 'trustee'})"
   ],
   "metadata": {
    "collapsed": false,
    "pycharm": {
     "name": "#%%\n"
    }
   }
  },
  {
   "cell_type": "markdown",
   "source": [
    "# Choosing a single trustee and random trial order"
   ],
   "metadata": {
    "collapsed": false,
    "pycharm": {
     "name": "#%% md\n"
    }
   }
  },
  {
   "cell_type": "code",
   "execution_count": 5,
   "outputs": [],
   "source": [
    "stim = allData.loc[allData.trustee == 4]\n",
    "stim = stim.sample(frac=1, random_state=42).reset_index(drop=True)\n",
    "stim['trial'] = range(len(stim))\n",
    "stim.to_csv('HMTG_possib_stim.csv', sep=\",\", header=True)"
   ],
   "metadata": {
    "collapsed": false,
    "pycharm": {
     "name": "#%%\n"
    }
   }
  },
  {
   "cell_type": "code",
   "execution_count": 5,
   "outputs": [
    {
     "data": {
      "text/plain": "[54, 41, 65, 92, 32, 62, 52, 72, 91, 83, 97, 34, 47, 6, 4, 93, 100, 81, 56, 75]"
     },
     "execution_count": 5,
     "metadata": {},
     "output_type": "execute_result"
    }
   ],
   "source": [
    "subs_to_observe"
   ],
   "metadata": {
    "collapsed": false,
    "pycharm": {
     "name": "#%%\n"
    }
   }
  },
  {
   "cell_type": "code",
   "execution_count": null,
   "outputs": [],
   "source": [],
   "metadata": {
    "collapsed": false,
    "pycharm": {
     "name": "#%%\n"
    }
   }
  }
 ],
 "metadata": {
  "kernelspec": {
   "display_name": "Python 3",
   "language": "python",
   "name": "python3"
  },
  "language_info": {
   "codemirror_mode": {
    "name": "ipython",
    "version": 2
   },
   "file_extension": ".py",
   "mimetype": "text/x-python",
   "name": "python",
   "nbconvert_exporter": "python",
   "pygments_lexer": "ipython2",
   "version": "2.7.6"
  }
 },
 "nbformat": 4,
 "nbformat_minor": 0
}